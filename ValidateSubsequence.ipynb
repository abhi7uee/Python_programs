{
 "cells": [
  {
   "cell_type": "code",
   "execution_count": 14,
   "id": "80d27d8e",
   "metadata": {},
   "outputs": [
    {
     "name": "stdout",
     "output_type": "stream",
     "text": [
      "7\n",
      "8\n",
      "0\n",
      "7\n",
      "4\n",
      "False\n"
     ]
    }
   ],
   "source": [
    "#Method 1: using a set\n",
    "def isValidSubsequence(array, sequence):\n",
    "    input_array = set(array)\n",
    "    isSubsequence = False\n",
    "    for i in sequence:\n",
    "        print(i)\n",
    "        if i in input_array:\n",
    "            isSubsequence = True\n",
    "        else:\n",
    "            isSubsequence = False\n",
    "            return isSubsequence\n",
    "    return isSubsequence    \n",
    "    \n",
    "array = [3,7,0,9,8]\n",
    "sequence = [ 7,8,0,7,4]\n",
    "isIt = isValidSubsequence(array, sequence)\n",
    "print(isIt)"
   ]
  },
  {
   "cell_type": "code",
   "execution_count": 17,
   "id": "d729c56a",
   "metadata": {},
   "outputs": [
    {
     "name": "stdout",
     "output_type": "stream",
     "text": [
      "True\n"
     ]
    }
   ],
   "source": [
    "#Method 2: by iterating through the array once\n",
    "def isValidSubsequence(array, sequence):\n",
    "    arrIdx = 0\n",
    "    seqIdx = 0\n",
    "    while arrIdx < len(array) and seqIdx < len(sequence):\n",
    "        if array[arrIdx] == sequence[seqIdx]:\n",
    "            seqIdx +=1\n",
    "        arrIdx +=1\n",
    "    return seqIdx == len(sequence)\n",
    "    \n",
    "array = [3,7,0,9,8]\n",
    "sequence = [ 7,0,8]\n",
    "isIt = isValidSubsequence(array, sequence)\n",
    "print(isIt)"
   ]
  },
  {
   "cell_type": "code",
   "execution_count": null,
   "id": "27847c8c",
   "metadata": {},
   "outputs": [],
   "source": []
  }
 ],
 "metadata": {
  "kernelspec": {
   "display_name": "Python 3 (ipykernel)",
   "language": "python",
   "name": "python3"
  },
  "language_info": {
   "codemirror_mode": {
    "name": "ipython",
    "version": 3
   },
   "file_extension": ".py",
   "mimetype": "text/x-python",
   "name": "python",
   "nbconvert_exporter": "python",
   "pygments_lexer": "ipython3",
   "version": "3.9.7"
  }
 },
 "nbformat": 4,
 "nbformat_minor": 5
}
