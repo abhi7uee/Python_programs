{
 "cells": [
  {
   "cell_type": "code",
   "execution_count": 6,
   "id": "13a3d7a5",
   "metadata": {},
   "outputs": [
    {
     "name": "stdout",
     "output_type": "stream",
     "text": [
      "Python\n"
     ]
    }
   ],
   "source": [
    "def tournamentWinner(competitions, results):\n",
    "    currentBestTeam = \"\"\n",
    "    dict_score ={currentBestTeam: 0}\n",
    "    home_team_wins = 1\n",
    "    for index, competition in enumerate(competitions):\n",
    "        [home_team, away_team] = competition\n",
    "        if results[index] == home_team_wins:\n",
    "            winning_team = home_team\n",
    "        else:\n",
    "            winning_team = away_team\n",
    "        update_winning_team_score(winning_team,3,dict_score)\n",
    "        \n",
    "        if dict_score[winning_team] > dict_score[currentBestTeam]:\n",
    "            currentBestTeam = winning_team\n",
    "    return currentBestTeam       \n",
    "            \n",
    "def update_winning_team_score(winning_team_name,score,dict_score):\n",
    "    if winning_team_name not in dict_score:\n",
    "        dict_score[winning_team_name] = 0\n",
    "    dict_score[winning_team_name] += score\n",
    "        \n",
    "competitions = [\n",
    "    [\"HTML\", \"C#\"],\n",
    "    [\"C#\", \"Python\"],\n",
    "    [\"Python\", \"HTML\"]\n",
    "]\n",
    "\n",
    "results = [0,0,1]\n",
    "winning_team = tournamentWinner(competitions, results)\n",
    "print(winning_team)\n",
    "            "
   ]
  },
  {
   "cell_type": "code",
   "execution_count": 4,
   "id": "d9744f40",
   "metadata": {},
   "outputs": [
    {
     "name": "stdout",
     "output_type": "stream",
     "text": [
      "index is  0\n",
      "competition is  ['HTML', 'C#']\n",
      "index is  1\n",
      "competition is  ['C#', 'Python']\n",
      "index is  2\n",
      "competition is  ['Python', 'HTML']\n"
     ]
    }
   ],
   "source": [
    "competitions = [\n",
    "    [\"HTML\", \"C#\"],\n",
    "    [\"C#\", \"Python\"],\n",
    "    [\"Python\", \"HTML\"]\n",
    "]\n",
    "\n",
    "results = [0,0,1]\n",
    "\n",
    "for index, competition in enumerate(competitions):\n",
    "    print(\"index is \", index)\n",
    "    print(\"competition is \",competition)"
   ]
  },
  {
   "cell_type": "code",
   "execution_count": null,
   "id": "f72edc18",
   "metadata": {},
   "outputs": [],
   "source": []
  }
 ],
 "metadata": {
  "kernelspec": {
   "display_name": "Python 3 (ipykernel)",
   "language": "python",
   "name": "python3"
  },
  "language_info": {
   "codemirror_mode": {
    "name": "ipython",
    "version": 3
   },
   "file_extension": ".py",
   "mimetype": "text/x-python",
   "name": "python",
   "nbconvert_exporter": "python",
   "pygments_lexer": "ipython3",
   "version": "3.9.7"
  }
 },
 "nbformat": 4,
 "nbformat_minor": 5
}
