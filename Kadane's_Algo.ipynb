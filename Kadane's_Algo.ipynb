{
 "cells": [
  {
   "cell_type": "markdown",
   "id": "344ff61a",
   "metadata": {},
   "source": [
    "# Kadane's algorithm to solve Maximum Subarray Problem"
   ]
  },
  {
   "cell_type": "code",
   "execution_count": 1,
   "id": "48f68b0d",
   "metadata": {},
   "outputs": [
    {
     "name": "stdout",
     "output_type": "stream",
     "text": [
      "19\n"
     ]
    }
   ],
   "source": [
    "def kadanesAlgorithm(array):\n",
    "    maxEndingHere = array[0] #Base case\n",
    "    maxSoFar = array[0]\n",
    "    for index in range(1, len(array)-1):\n",
    "        maxEndingHere = max (array[index]+maxEndingHere, array[index])\n",
    "        maxSoFar = max(maxEndingHere,maxSoFar)\n",
    "    return maxSoFar\n",
    "    \n",
    "array = [3,5,-9,1,3,-2,3,4,7,2,-9,6,3,1,-5,4]\n",
    "max_sum_subarray = kadanesAlgorithm(array)\n",
    "print(max_sum_subarray)"
   ]
  },
  {
   "cell_type": "code",
   "execution_count": null,
   "id": "3c5e388a",
   "metadata": {},
   "outputs": [],
   "source": []
  }
 ],
 "metadata": {
  "kernelspec": {
   "display_name": "Python 3 (ipykernel)",
   "language": "python",
   "name": "python3"
  },
  "language_info": {
   "codemirror_mode": {
    "name": "ipython",
    "version": 3
   },
   "file_extension": ".py",
   "mimetype": "text/x-python",
   "name": "python",
   "nbconvert_exporter": "python",
   "pygments_lexer": "ipython3",
   "version": "3.9.7"
  }
 },
 "nbformat": 4,
 "nbformat_minor": 5
}
