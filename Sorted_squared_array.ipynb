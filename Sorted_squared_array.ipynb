{
 "cells": [
  {
   "cell_type": "code",
   "execution_count": 10,
   "id": "abcf4958",
   "metadata": {},
   "outputs": [],
   "source": [
    "#Solution 1: Acc. to Hint 2\n",
    "#Time: O(n) | Space: O(n)\n",
    "def sortedSquaredArray(array):\n",
    "    if len(array) == 0:\n",
    "        return []\n",
    "    output_array = []\n",
    "    for index in range(0, len(array)):\n",
    "        output_array.append(array[index] **2)\n",
    "    output_array.sort()\n",
    "    return output_array\n",
    "#add check for negative numbers\n",
    "        "
   ]
  },
  {
   "cell_type": "code",
   "execution_count": 11,
   "id": "6850d772",
   "metadata": {},
   "outputs": [
    {
     "name": "stdout",
     "output_type": "stream",
     "text": [
      "[1, 4, 9, 25, 36, 64, 81]\n"
     ]
    }
   ],
   "source": [
    "array = [1,2,3,5,6,8,9]\n",
    "output_array = sortedSquaredArray(array)\n",
    "print(output_array)"
   ]
  },
  {
   "cell_type": "code",
   "execution_count": 66,
   "id": "4c4c7db8",
   "metadata": {},
   "outputs": [],
   "source": [
    "#Solution 2: Acc. to Hint 3\n",
    "\n",
    "def sortedSquaredArray(array):\n",
    "    if len(array) == 0:\n",
    "        return []\n",
    "    output_array = [0 for _ in array]\n",
    "    left = 0\n",
    "    right = len(array)-1\n",
    "    index = len(array)-1\n",
    "    while (left < right) and (index >= 0):\n",
    "        if abs(array[left]) <= abs(array[right]):\n",
    "            output_array[index] = array[right]**2\n",
    "            right -= 1\n",
    "            index -=1\n",
    "        elif abs(array[left]) > abs(array[right]):\n",
    "            output_array[index]= array[left]**2\n",
    "            index -=1\n",
    "            left +=1  \n",
    "    return output_array"
   ]
  },
  {
   "cell_type": "code",
   "execution_count": 67,
   "id": "3a73d232",
   "metadata": {},
   "outputs": [
    {
     "name": "stdout",
     "output_type": "stream",
     "text": [
      "[0, 4, 9, 25]\n"
     ]
    }
   ],
   "source": [
    "array = [-1,2,3,5]\n",
    "output_array = sortedSquaredArray(array)\n",
    "print(output_array)"
   ]
  },
  {
   "cell_type": "code",
   "execution_count": 51,
   "id": "ea26ce40",
   "metadata": {},
   "outputs": [
    {
     "name": "stdout",
     "output_type": "stream",
     "text": [
      "4\n",
      "[0, 0, 0, 0]\n",
      "[0, 0, 0, 5]\n"
     ]
    }
   ],
   "source": [
    "array = [-1,2,3,5]\n",
    "print(len(array))\n",
    "a =(len(array)-1)\n",
    "output_array = [0 for _ in array]\n",
    "print(output_array)\n",
    "output_array [a] = 5\n",
    "print(output_array)"
   ]
  },
  {
   "cell_type": "code",
   "execution_count": 40,
   "id": "42a8e02c",
   "metadata": {},
   "outputs": [
    {
     "name": "stdout",
     "output_type": "stream",
     "text": [
      "[0, 0, 0, 0]\n"
     ]
    }
   ],
   "source": [
    "print(arr)"
   ]
  },
  {
   "cell_type": "code",
   "execution_count": null,
   "id": "cf26d494",
   "metadata": {},
   "outputs": [],
   "source": []
  }
 ],
 "metadata": {
  "kernelspec": {
   "display_name": "Python 3 (ipykernel)",
   "language": "python",
   "name": "python3"
  },
  "language_info": {
   "codemirror_mode": {
    "name": "ipython",
    "version": 3
   },
   "file_extension": ".py",
   "mimetype": "text/x-python",
   "name": "python",
   "nbconvert_exporter": "python",
   "pygments_lexer": "ipython3",
   "version": "3.9.7"
  }
 },
 "nbformat": 4,
 "nbformat_minor": 5
}
